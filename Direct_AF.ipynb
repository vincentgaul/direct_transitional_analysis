{
 "cells": [
  {
   "cell_type": "code",
   "execution_count": 13,
   "metadata": {},
   "outputs": [],
   "source": [
    "import pandas as pd\n",
    "import numpy as np\n",
    "import matplotlib.pyplot as plt\n",
    "from scipy.signal import savgol_filter\n",
    "import seaborn as sns\n",
    "from matplotlib.colors import ListedColormap\n",
    "from scipy.interpolate import interp1d\n",
    "\n",
    "%matplotlib inline"
   ]
  },
  {
   "cell_type": "code",
   "execution_count": 14,
   "metadata": {},
   "outputs": [],
   "source": [
    "df = pd.read_csv('pseudo_sigmoid_batches_long.csv')"
   ]
  },
  {
   "cell_type": "code",
   "execution_count": 15,
   "metadata": {},
   "outputs": [
    {
     "data": {
      "text/plain": [
       "Index(['batch', 'data_point', 'value'], dtype='object')"
      ]
     },
     "execution_count": 15,
     "metadata": {},
     "output_type": "execute_result"
    }
   ],
   "source": [
    "df.columns\n"
   ]
  },
  {
   "cell_type": "code",
   "execution_count": 16,
   "metadata": {},
   "outputs": [],
   "source": [
    "df = df.rename(columns = {'value':'Signal', 'data_point':'Volume', 'batch':'Batch'})\n",
    "df[\"Campaign\"] = \"C1\"\n",
    "\n"
   ]
  },
  {
   "cell_type": "code",
   "execution_count": 17,
   "metadata": {},
   "outputs": [],
   "source": [
    "df = df[df['Batch'] == 'Batch_1']"
   ]
  },
  {
   "cell_type": "code",
   "execution_count": 18,
   "metadata": {},
   "outputs": [],
   "source": [
    "# Normalization as described in the \"Moment Analysis\" section\n",
    "def normalize_signal(signal):\n",
    "    return (signal - signal.min()) / (signal.max() - signal.min())\n",
    "\n",
    "\n"
   ]
  },
  {
   "cell_type": "code",
   "execution_count": 19,
   "metadata": {},
   "outputs": [],
   "source": [
    "def calculate_direct_af(volume, signal):\n",
    "    # Sort the data by Volume\n",
    "    sorted_indices = np.argsort(volume)\n",
    "    volume = volume[sorted_indices]\n",
    "    signal = signal[sorted_indices]\n",
    "\n",
    "    # Normalize the signal\n",
    "    normalized_signal = normalize_signal(signal)\n",
    "\n",
    "    # Create interpolation function\n",
    "    interp_func = interp1d(normalized_signal, volume, kind='linear', bounds_error=False, fill_value=\"extrapolate\")\n",
    "\n",
    "    thresholds_low = [0.05, 0.10, 0.15, 0.20, 0.25, 0.30]\n",
    "    thresholds_high = [0.95, 0.90, 0.85, 0.80, 0.75, 0.70]\n",
    "    cv_mid = interp_func(0.5)\n",
    "\n",
    "    ratios = []\n",
    "    for low, high in zip(thresholds_low, thresholds_high):\n",
    "        cv_a = interp_func(low)\n",
    "        cv_b = interp_func(high)\n",
    "        ratios.append((cv_b - cv_mid) / (cv_mid - cv_a))\n",
    "\n",
    "    return np.mean(ratios)"
   ]
  },
  {
   "cell_type": "code",
   "execution_count": 20,
   "metadata": {},
   "outputs": [
    {
     "data": {
      "text/plain": [
       "0.9910394868602568"
      ]
     },
     "execution_count": 20,
     "metadata": {},
     "output_type": "execute_result"
    }
   ],
   "source": [
    "calculate_direct_af(df['Volume'].values, df['Signal'].values)"
   ]
  },
  {
   "cell_type": "code",
   "execution_count": null,
   "metadata": {},
   "outputs": [],
   "source": [
    "\n",
    "def calculate_and_plot_direct_af(df, batch_number):\n",
    "    # Filter the data for the specified batch\n",
    "    batch_data = df[df['Batch'] == f'Batch_{batch_number}']\n",
    "    \n",
    "    # Sort the data by Volume\n",
    "    batch_data = batch_data.sort_values('Volume')\n",
    "    \n",
    "    # Extract volume and signal data\n",
    "    volume = batch_data['Volume'].values\n",
    "    signal = batch_data['Signal'].values\n",
    "    \n",
    "    # Normalize the signal\n",
    "    normalized_signal = normalize_signal(signal)\n",
    "    \n",
    "    # Create interpolation function\n",
    "    interp_func = interp1d(normalized_signal, volume, kind='linear')\n",
    "    \n",
    "    # Define thresholds\n",
    "    thresholds_low = [0.05, 0.10, 0.15, 0.20, 0.25, 0.30]\n",
    "    thresholds_high = [0.95, 0.90, 0.85, 0.80, 0.75, 0.70]\n",
    "    \n",
    "    # Calculate cv_mid\n",
    "    cv_mid = interp_func(0.5)\n",
    "    \n",
    "    # Calculate ratios and Direct AF\n",
    "    ratios = []\n",
    "    for low, high in zip(thresholds_low, thresholds_high):\n",
    "        cv_a = interp_func(low)\n",
    "        cv_b = interp_func(high)\n",
    "        ratios.append((cv_b - cv_mid) / (cv_mid - cv_a))\n",
    "    \n",
    "    direct_af = np.mean(ratios)\n",
    "    \n",
    "    # Create the plot\n",
    "    plt.figure(figsize=(14, 8))\n",
    "    \n",
    "    # Plot the normalized signal\n",
    "    sns.lineplot(x=volume, y=normalized_signal, label='Normalized Signal')\n",
    "    \n",
    "    # Highlight the mid-point\n",
    "    plt.scatter(cv_mid, 0.5, color='red', s=100, zorder=5, label='Mid-point')\n",
    "    \n",
    "    # Add vertical line at mid-point\n",
    "    plt.axvline(x=cv_mid, color='red', linestyle='--', alpha=0.7, label='Mid-line')\n",
    "    \n",
    "    # Highlight the threshold points and add ratio values\n",
    "    colors = plt.cm.rainbow(np.linspace(0, 1, len(thresholds_low)))\n",
    "    for i, (low, high, ratio) in enumerate(zip(thresholds_low, thresholds_high, ratios)):\n",
    "        cv_a = interp_func(low)\n",
    "        cv_b = interp_func(high)\n",
    "        plt.scatter([cv_a, cv_b], [low, high], color=colors[i], s=50, zorder=5)\n",
    "        plt.plot([cv_a, cv_mid, cv_b], [low, 0.5, high], color=colors[i], linestyle=':', alpha=0.7)\n",
    "        \n",
    "        # Add ratio value to the plot\n",
    "        mid_x = (cv_a + cv_b) / 2\n",
    "        mid_y = (low + high) / 2\n",
    "        plt.annotate(f'{ratio:.2f}', (mid_x, mid_y), color=colors[i], \n",
    "                     xytext=(5, 5), textcoords='offset points', \n",
    "                     bbox=dict(boxstyle=\"round,pad=0.3\", fc=\"white\", ec=colors[i], alpha=0.8),\n",
    "                     ha='left', va='bottom')\n",
    "    \n",
    "    plt.title(f'Normalized Signal vs Volume for Batch {batch_number} with Direct AF Visualization')\n",
    "    plt.xlabel('Volume')\n",
    "    plt.ylabel('Normalized Signal')\n",
    "    plt.legend()\n",
    "    \n",
    "    # Add text annotation for Direct AF value\n",
    "    plt.text(0.95, 0.05, f'Direct AF: {direct_af:.2f}', \n",
    "             horizontalalignment='right', verticalalignment='bottom',\n",
    "             transform=plt.gca().transAxes,\n",
    "             bbox=dict(facecolor='white', edgecolor='black', alpha=0.8))\n",
    "    \n",
    "    plt.tight_layout()\n",
    "    plt.show()\n",
    "    \n",
    "    return direct_af\n",
    "\n",
    "# Example usage:\n",
    "direct_af = calculate_and_plot_direct_af(df_final, 1)  # Plot for Batch 1\n",
    "print(f\"Calculated Direct AF: {direct_af:.2f}\")"
   ]
  }
 ],
 "metadata": {
  "kernelspec": {
   "display_name": "datascience",
   "language": "python",
   "name": "python3"
  },
  "language_info": {
   "codemirror_mode": {
    "name": "ipython",
    "version": 3
   },
   "file_extension": ".py",
   "mimetype": "text/x-python",
   "name": "python",
   "nbconvert_exporter": "python",
   "pygments_lexer": "ipython3",
   "version": "3.12.5"
  }
 },
 "nbformat": 4,
 "nbformat_minor": 2
}
